{
 "cells": [
  {
   "cell_type": "code",
   "execution_count": 1,
   "id": "30bbaffc-90d9-4404-b3fa-ae9b7ab6103b",
   "metadata": {},
   "outputs": [],
   "source": [
    "# https://www.ptsd.va.gov/understand_tx/meds_for_ptsd.asp"
   ]
  },
  {
   "cell_type": "code",
   "execution_count": 1,
   "id": "3a38105e-0bf9-4acf-92c4-60f6a833a521",
   "metadata": {},
   "outputs": [],
   "source": [
    "import sdv\n",
    "import pandas as pd\n",
    "from random import sample, choice, randint\n",
    "import random\n",
    "import uuid\n",
    "import numpy as np\n",
    "import torch\n",
    "from tqdm.auto import tqdm\n",
    "from transformers import AutoTokenizer, AutoModel  \n",
    "from scipy.spatial import distance"
   ]
  },
  {
   "cell_type": "markdown",
   "id": "7292f3e9-86bc-46c4-995f-b158a3c9a71c",
   "metadata": {},
   "source": [
    "# Get ICD and prescription tables"
   ]
  },
  {
   "cell_type": "code",
   "execution_count": 25,
   "id": "a0ac5171-0f58-4695-8dfd-dca66d7c2f8c",
   "metadata": {},
   "outputs": [],
   "source": [
    "diagnosis_dim = pd.read_csv(\"diagnosis_source.csv\")\n",
    "medication_dim = pd.read_csv(\"medication_source.csv\")"
   ]
  },
  {
   "cell_type": "markdown",
   "id": "4b3370ac-6dc6-47f5-8887-883a6ebf3b51",
   "metadata": {},
   "source": [
    "# Create Population Table\n",
    "\n",
    "size between 200-300,  ages are chosen randomly between of 22 and 88"
   ]
  },
  {
   "cell_type": "code",
   "execution_count": 3,
   "id": "f3214b7e-91b6-4a7f-916a-5b1b6914785e",
   "metadata": {
    "scrolled": true
   },
   "outputs": [
    {
     "name": "stdout",
     "output_type": "stream",
     "text": [
      "POPULATION SIZE:  300\n",
      "age_bracket\n",
      "'22-33'    62\n",
      "'33-44'    48\n",
      "'44-55'    46\n",
      "'55-66'    40\n",
      "'66-77'    58\n",
      "'77-88'    46\n",
      "Name: person_id, dtype: int64\n"
     ]
    }
   ],
   "source": [
    "## Personal demographics table\n",
    "\n",
    "random.seed(9)\n",
    "\n",
    "person = [{\"person_id\":randint(0,9999999999),\"age\":randint(23,88)} for y in range(0, 300)]\n",
    "\n",
    "person_df = pd.DataFrame(person)\n",
    "bins = [22, 33, 44, 55, 66, 77, 88]\n",
    "labels = [\"'22-33'\",\"'33-44'\",\"'44-55'\",\"'55-66'\",\"'66-77'\",\"'77-88'\"]\n",
    "\n",
    "person_df['age_bracket'] = pd.cut(person_df['age'], bins=bins, labels=labels)\n",
    "person_df['age_bracket'] = person_df['age_bracket'].astype(str)\n",
    "\n",
    "print(\"POPULATION SIZE: \",len(person)) \n",
    "print(person_df.groupby(\"age_bracket\").count()[\"person_id\"])"
   ]
  },
  {
   "cell_type": "markdown",
   "id": "fa92ff3f-1aa9-413c-8235-3e741b4ab8cd",
   "metadata": {},
   "source": [
    "This data defines the VASRD codes and medication. Since medicaton and VA Disability benefits are "
   ]
  },
  {
   "cell_type": "code",
   "execution_count": 4,
   "id": "a8a597ed-17b8-4311-86d3-b86f3188770c",
   "metadata": {},
   "outputs": [],
   "source": [
    "vasrd = {\n",
    "    \"9412\": \"Panic disorder and/or agoraphobia\",\n",
    "    \"9411\": \"Posttraumatic stress disorder\",\n",
    "    \"6602\": \"Asthma\"\n",
    "}\n",
    "\n",
    "medication_ptsd = [\n",
    "    \"Sertraline\",\n",
    "    \"Paroxetine\"\n",
    "]\n",
    "\n",
    "medication_panic = [\n",
    "    \"FLUoxetine\",\n",
    "    \"Sertraline\",\n",
    "    \"Lorazepam\"\n",
    "]\n",
    "\n",
    "medication_asthma = [\n",
    "    \"PredniSONE\",\n",
    "    \"Salmeterol Xinafoate Diskus (50 mcg)\",\n",
    "    \"Albuterol 0.083% Neb Soln\",\n",
    "    \"Fluticasone Propionate NASAL\"\n",
    "]"
   ]
  },
  {
   "cell_type": "code",
   "execution_count": 5,
   "id": "54c434ba-ebe4-4f78-becb-279de59caf7f",
   "metadata": {},
   "outputs": [
    {
     "data": {
      "text/html": [
       "<div>\n",
       "<style scoped>\n",
       "    .dataframe tbody tr th:only-of-type {\n",
       "        vertical-align: middle;\n",
       "    }\n",
       "\n",
       "    .dataframe tbody tr th {\n",
       "        vertical-align: top;\n",
       "    }\n",
       "\n",
       "    .dataframe thead th {\n",
       "        text-align: right;\n",
       "    }\n",
       "</style>\n",
       "<table border=\"1\" class=\"dataframe\">\n",
       "  <thead>\n",
       "    <tr style=\"text-align: right;\">\n",
       "      <th></th>\n",
       "      <th>benefit_id</th>\n",
       "      <th>vasrd</th>\n",
       "      <th>vasrd desc</th>\n",
       "    </tr>\n",
       "  </thead>\n",
       "  <tbody>\n",
       "    <tr>\n",
       "      <th>0</th>\n",
       "      <td>5308786135</td>\n",
       "      <td>9412</td>\n",
       "      <td>Panic disorder and/or agoraphobia</td>\n",
       "    </tr>\n",
       "    <tr>\n",
       "      <th>1</th>\n",
       "      <td>9033029319</td>\n",
       "      <td>9411</td>\n",
       "      <td>Posttraumatic stress disorder</td>\n",
       "    </tr>\n",
       "    <tr>\n",
       "      <th>2</th>\n",
       "      <td>5996024489</td>\n",
       "      <td>6602</td>\n",
       "      <td>Asthma</td>\n",
       "    </tr>\n",
       "  </tbody>\n",
       "</table>\n",
       "</div>"
      ],
      "text/plain": [
       "   benefit_id vasrd                         vasrd desc\n",
       "0  5308786135  9412  Panic disorder and/or agoraphobia\n",
       "1  9033029319  9411      Posttraumatic stress disorder\n",
       "2  5996024489  6602                             Asthma"
      ]
     },
     "execution_count": 5,
     "metadata": {},
     "output_type": "execute_result"
    }
   ],
   "source": [
    "random.seed(4)\n",
    "benefits_dim = [{\"benefit_id\":randint(0,9999999999),\"vasrd\":vasrd_row, \"vasrd desc\": vasrd[vasrd_row]} for vasrd_row in vasrd]\n",
    "benefits_dim = pd.DataFrame(benefits_dim)\n",
    "benefits_dim"
   ]
  },
  {
   "cell_type": "code",
   "execution_count": 6,
   "id": "c23f1fe3-0c17-4049-b2b0-07aee9f645cf",
   "metadata": {},
   "outputs": [],
   "source": [
    "diagnosis_list = diagnosis_dim[\"diagnosis_id\"].tolist()\n",
    "medication_list = medication_dim[\"drug_id\"].tolist()"
   ]
  },
  {
   "cell_type": "code",
   "execution_count": 7,
   "id": "5bc3e64d-be3c-486f-99f7-861c7430b40c",
   "metadata": {},
   "outputs": [
    {
     "name": "stdout",
     "output_type": "stream",
     "text": [
      "3/ 4  of the population has a VA Disability rating\n",
      "                                   person_id\n",
      "vasrd desc                                  \n",
      "Asthma                                    80\n",
      "Panic disorder and/or agoraphobia         63\n",
      "Posttraumatic stress disorder             82\n",
      "\n",
      "Number of people with benefits:  225\n"
     ]
    }
   ],
   "source": [
    "random.seed(6)\n",
    "\n",
    "n = 4\n",
    "print(\"3/\",n,\" of the population has a VA Disability rating\")\n",
    "segment = int(len(person_df[\"person_id\"]) - (len(person_df[\"person_id\"])/n))\n",
    "\n",
    "benefits_id_list = benefits_dim[\"benefit_id\"].to_list()\n",
    "\n",
    "benefits_df = [{\"person_id\": person_id, \"benefit_id\":benefits_id_list[choice(range(0,len(benefits_id_list)))]} for person_id in person_df[\"person_id\"][0:segment]]\n",
    "benefits_df = benefits_df + [{\"person_id\": person_id, \"benefit_id\":\"None\"} for person_id in person_df[\"person_id\"][segment:]]\n",
    "benefits_df = pd.DataFrame(benefits_df)\n",
    "benefits_df.head(n=10)\n",
    "\n",
    "benefits_df = benefits_df.drop_duplicates(subset = [\"benefit_id\", \"person_id\"])\n",
    "\n",
    "benefits_df= benefits_df.merge(benefits_dim, how=\"left\", on=\"benefit_id\")\n",
    "print(benefits_df.groupby(\"vasrd desc\").count()[[\"person_id\"]])\n",
    "print(\"\\nNumber of people with benefits: \",benefits_df.groupby(\"vasrd desc\").count()[[\"person_id\"]].values.sum())\n",
    "\n"
   ]
  },
  {
   "cell_type": "markdown",
   "id": "bc14619d-60f3-414d-ab63-967e40131a08",
   "metadata": {},
   "source": [
    "## Randomly sample the segmented population"
   ]
  },
  {
   "cell_type": "markdown",
   "id": "95b18cbe-5678-451b-912b-a81b0f594148",
   "metadata": {},
   "source": [
    "The number of benefits to assign is chosen randomly. The population to be addigned medication is randomly sampled from the population with the correlated VA Disability rating. the medication is also chosen at random from the identified list of medicaitons. The rest of the population is sampled and assigned a random medication from the `prescription` table."
   ]
  },
  {
   "cell_type": "code",
   "execution_count": 8,
   "id": "25724e5d-2774-4c1e-b364-16127dae0a4c",
   "metadata": {},
   "outputs": [
    {
     "name": "stdout",
     "output_type": "stream",
     "text": [
      "Create random samples to assign medications:\n",
      "\n",
      "panic sample size:  35 \n",
      "ptsd sample size:  64 \n",
      "asthma sample size:  72 \n",
      "no disability sample size:  40\n"
     ]
    }
   ],
   "source": [
    "random.seed(7)\n",
    "print(\"Create random samples to assign medications:\\n\")\n",
    "panic_sample_size = randint(30,40)\n",
    "ptsd_sample_size = randint(60,80)\n",
    "asthma_sample_size = randint(60,90)\n",
    "none_sample_size = randint(20,50)\n",
    "print(\"panic sample size: \",panic_sample_size,\"\\nptsd sample size: \",ptsd_sample_size, \"\\nasthma sample size: \",asthma_sample_size,\"\\nno disability sample size: \", none_sample_size)\n",
    "list_of_panic_population = [choice(benefits_df.loc[benefits_df[\"benefit_id\"] == benefits_dim[\"benefit_id\"].to_list()[0]][\"person_id\"].tolist()) for x in range(0, panic_sample_size)]\n",
    "list_of_ptsd_population = [choice(benefits_df.loc[benefits_df[\"benefit_id\"] == benefits_dim[\"benefit_id\"].to_list()[1]][\"person_id\"].tolist()) for x in range(0, ptsd_sample_size)]\n",
    "list_of_asthma_population = [choice(benefits_df.loc[benefits_df[\"benefit_id\"] == benefits_dim[\"benefit_id\"].to_list()[2]][\"person_id\"].tolist()) for x in range(0, asthma_sample_size)]\n",
    "list_of_none_population = [choice(benefits_df.loc[benefits_df[\"benefit_id\"] == \"None\"][\"person_id\"].tolist()) for x in range(0, none_sample_size)]"
   ]
  },
  {
   "cell_type": "code",
   "execution_count": 9,
   "id": "fd8975b0-4dc9-46ad-8b1b-5d83b82838af",
   "metadata": {},
   "outputs": [
    {
     "name": "stdout",
     "output_type": "stream",
     "text": [
      "Frequency of drug in the overall population: \n",
      "\n",
      "drug\n",
      "albuterol 0.083% neb soln                                              11\n",
      "alteplase (catheter clearance)                                          3\n",
      "amlodipine                                                              1\n",
      "atropine sulfate 1%                                                     1\n",
      "doxazosin                                                               1\n",
      "escitalopram oxalate                                                    2\n",
      "fentanyl patch                                                          5\n",
      "fluoxetine                                                             16\n",
      "fluticasone propionate nasal                                           21\n",
      "ivermectin                                                              2\n",
      "lorazepam                                                               5\n",
      "metformin (glucophage)                                                  1\n",
      "morphine sulfate                                                        1\n",
      "naproxen                                                                2\n",
      "nifedipine cr                                                           2\n",
      "nitrofurantoin monohyd (macrobid)                                       2\n",
      "olanzapine (disintegrating tablet)                                      2\n",
      "oxycodone--acetaminophen (5mg-325mg)                                    1\n",
      "paroxetine                                                             31\n",
      "phenobarbital                                                           1\n",
      "phenobarbital - icu alcohol withdrawal (initial load / rescue dose)     2\n",
      "prednisone                                                             26\n",
      "ruxolitinib                                                             1\n",
      "salmeterol xinafoate diskus (50 mcg)                                   17\n",
      "sertraline                                                             49\n",
      "sodium bicarbonate                                                      2\n",
      "sodium chloride 0.9%                                                    2\n",
      "verapamil                                                               1\n",
      "Name: person_id, dtype: int64\n"
     ]
    }
   ],
   "source": [
    "random.seed(8)\n",
    "\n",
    "medication = [{\"person_id\":person_id, \"drug_id\":medication_dim.loc[medication_dim[\"drug\"] == medication_ptsd[choice(range(0,len(medication_ptsd)))].lower()][\"drug_id\"].values[0]} for person_id in list_of_ptsd_population]+\\\n",
    "[{\"person_id\":person_id, \"drug_id\":medication_dim.loc[medication_dim[\"drug\"] == medication_panic[choice(range(0,len(medication_panic)))].lower()][\"drug_id\"].values[0]} for person_id in list_of_panic_population]+\\\n",
    "[{\"person_id\":person_id, \"drug_id\":medication_dim.loc[medication_dim[\"drug\"] == medication_asthma[choice(range(0,len(medication_asthma)))].lower()][\"drug_id\"].values[0]} for person_id in list_of_asthma_population]+\\\n",
    "[{\"person_id\":person_id, \"drug_id\":medication_dim.loc[choice(range(0,len(medication_dim)))][\"drug_id\"]} for person_id in list_of_none_population]\n",
    "\n",
    "medication_df = pd.DataFrame(medication)\n",
    "print(\"Frequency of drug in the overall population: \\n\")\n",
    "with pd.option_context('display.max_rows', None, 'display.max_columns', None):  # more options can be specified also\n",
    "    print(medication_df.merge(medication_dim, how=\"left\", on=\"drug_id\").groupby([\"drug\"]).count()[\"person_id\"])"
   ]
  },
  {
   "cell_type": "markdown",
   "id": "7b63455c-a483-4952-bc2a-31723fa83e36",
   "metadata": {},
   "source": [
    "# ICD disease table"
   ]
  },
  {
   "cell_type": "code",
   "execution_count": 10,
   "id": "a886d260-c87f-4f58-a3d6-39a996f22482",
   "metadata": {},
   "outputs": [],
   "source": [
    "icd_panic = [\n",
    "    {\"icd_code\":\"F400\"},\n",
    "    {\"icd_code\":\"F4001\"},\n",
    "    {\"icd_code\":\"F4000\"},\n",
    "    {\"icd_code\":\"F4002\"}\n",
    "]\n",
    "icd_ptsd = [\n",
    "    {\"icd_code\":\"F431\"},\n",
    "    {\"icd_code\":\"F4312\"},\n",
    "    {\"icd_code\":\"F4310\"},\n",
    "    {\"icd_code\":\"F4311\"}\n",
    "]\n",
    "icd_asthma = [\n",
    "    {\"icd_code\":\"J4599\"},\n",
    "    {\"icd_code\":\"J45901\"},\n",
    "    {\"icd_code\":\"J4590\"},\n",
    "    {\"icd_code\":\"J45998\"}\n",
    "]"
   ]
  },
  {
   "cell_type": "code",
   "execution_count": 23,
   "id": "6876f5e1-512f-43a8-8f25-8bf35957d51f",
   "metadata": {},
   "outputs": [
    {
     "name": "stdout",
     "output_type": "stream",
     "text": [
      "Create random samples to assign diagnosis\n",
      "\n",
      "panic sample size:  50 \n",
      "ptsd sample size:  71 \n",
      "asthma sample size:  51 \n",
      "no disability sample size:  22\n"
     ]
    }
   ],
   "source": [
    "random.seed(2)\n",
    "print(\"Create random samples to assign diagnosis\\n\")\n",
    "diagnosis_panic_pop = randint(20,50)\n",
    "diagnosis_ptsd_pop = randint(70,90)\n",
    "diagnosis_asthma_pop = randint(50,60)\n",
    "diagnosis_none_pop = randint(20,50)\n",
    "\n",
    "print(\"panic sample size: \",diagnosis_panic_pop,\"\\nptsd sample size: \",diagnosis_ptsd_pop, \"\\nasthma sample size: \",diagnosis_asthma_pop,\"\\nno disability sample size: \", diagnosis_none_pop)\n",
    "\n",
    "list_of_panic_population = [choice(benefits_df.loc[benefits_df[\"benefit_id\"] == benefits_dim[\"benefit_id\"].to_list()[0]][\"person_id\"].tolist()) for x in range(0, diagnosis_panic_pop)]\n",
    "list_of_ptsd_population = [choice(benefits_df.loc[benefits_df[\"benefit_id\"] == benefits_dim[\"benefit_id\"].to_list()[1]][\"person_id\"].tolist()) for x in range(0, diagnosis_ptsd_pop)]\n",
    "list_of_asthma_population = [choice(benefits_df.loc[benefits_df[\"benefit_id\"] == benefits_dim[\"benefit_id\"].to_list()[2]][\"person_id\"].tolist()) for x in range(0, diagnosis_asthma_pop)]\n",
    "list_of_none_population = [choice(benefits_df.loc[benefits_df[\"benefit_id\"] == \"None\"][\"person_id\"].tolist()) for x in range(0, diagnosis_none_pop)]"
   ]
  },
  {
   "cell_type": "code",
   "execution_count": 26,
   "id": "189dab62-9e80-46c4-910f-2aba3bb74aba",
   "metadata": {},
   "outputs": [
    {
     "name": "stdout",
     "output_type": "stream",
     "text": [
      "Frequency of diagnosis in the overall population: \n",
      "\n",
      "icd_code\n",
      "C9480       1\n",
      "F400       15\n",
      "F4000      13\n",
      "F4001      16\n",
      "F4002      12\n",
      "F431       19\n",
      "F4310      13\n",
      "F4311      25\n",
      "F4312      15\n",
      "H72819      2\n",
      "J4590      13\n",
      "J45901     13\n",
      "J4599      14\n",
      "J45998     13\n",
      "N809        1\n",
      "S31819D     1\n",
      "S90559S     2\n",
      "T8529       2\n",
      "V00312S     1\n",
      "V9348       2\n",
      "Y36441      1\n",
      "Name: person_id, dtype: int64\n"
     ]
    }
   ],
   "source": [
    "random.seed(1)\n",
    "\n",
    "diagnosis = [{\"person_id\":person, \"diagnosis_id\":diagnosis_dim.loc[diagnosis_dim[\"icd_code\"] == icd_ptsd[choice(range(0,len(icd_ptsd)))][\"icd_code\"]][\"diagnosis_id\"].values[0]} for person in list_of_ptsd_population]+\\\n",
    "[{\"person_id\":person, \"diagnosis_id\":diagnosis_dim.loc[diagnosis_dim[\"icd_code\"] == icd_panic[choice(range(0,len(icd_panic)))][\"icd_code\"]][\"diagnosis_id\"].values[0]} for person in list_of_panic_population]+\\\n",
    "[{\"person_id\":person, \"diagnosis_id\":diagnosis_dim.loc[diagnosis_dim[\"icd_code\"] == icd_asthma[choice(range(0,len(icd_asthma)))][\"icd_code\"]][\"diagnosis_id\"].values[0]} for person in list_of_asthma_population]+\\\n",
    "[{\"person_id\":person, \"diagnosis_id\":diagnosis_dim.loc[choice(range(0,len(diagnosis_dim)))][\"diagnosis_id\"]} for person in list_of_none_population]\n",
    "\n",
    "diagnosis_df = pd.DataFrame(diagnosis)\n",
    "print(\"Frequency of diagnosis in the overall population: \\n\")\n",
    "with pd.option_context('display.max_rows', None, 'display.max_columns', None):  # more options can be specified also\n",
    "    print(diagnosis_df.merge(diagnosis_dim, how=\"left\", on=\"diagnosis_id\").groupby([\"icd_code\"]).count()[\"person_id\"])"
   ]
  },
  {
   "cell_type": "code",
   "execution_count": 13,
   "id": "7fef290c-1829-4bd9-a659-2c0c8c43c0f4",
   "metadata": {},
   "outputs": [],
   "source": [
    "# filter medication and diagnosis dim tables so they only include data that is used in the tables.\n",
    "medication_dim_out = medication_dim.loc[medication_dim[\"drug_id\"].isin(medication_df[\"drug_id\"])]\n",
    "diagnosis_dim_out = diagnosis_dim.loc[diagnosis_dim[\"diagnosis_id\"].isin(diagnosis_df[\"diagnosis_id\"])]\n"
   ]
  },
  {
   "cell_type": "code",
   "execution_count": 14,
   "id": "40d3b407-de81-4612-9388-c989ff49f707",
   "metadata": {},
   "outputs": [],
   "source": [
    "person_df.to_csv(\"demographics_table.csv\", index=False)\n",
    "benefits_df.to_csv(\"benefits_table.csv\", index=False)\n",
    "medication_df.to_csv(\"medication_table.csv\", index=False)\n",
    "diagnosis_df.to_csv(\"diagnosis_table.csv\", index=False)\n",
    "\n",
    "diagnosis_dim_out.to_csv(\"diagnosis_dim.csv\", index=False)\n",
    "medication_dim_out.to_csv(\"medication_dim.csv\", index=False)\n",
    "benefits_dim.to_csv(\"benefits_dim.csv\", index=False)"
   ]
  },
  {
   "cell_type": "code",
   "execution_count": 27,
   "id": "8de1e1d3-92ab-4dc4-b9e4-b15576ecd8b6",
   "metadata": {},
   "outputs": [],
   "source": [
    "diagnosis_table = diagnosis_df.merge(diagnosis_dim, how=\"left\", on=\"diagnosis_id\")\n",
    "medication_table = medication_df.merge(medication_dim, how=\"left\", on=\"drug_id\")\n",
    "benefits_table = benefits_df.merge(benefits_dim, how=\"left\", on=\"benefit_id\")\n"
   ]
  },
  {
   "cell_type": "code",
   "execution_count": 28,
   "id": "ef33c0df-8647-41b8-bbc2-3af3be45a44c",
   "metadata": {},
   "outputs": [],
   "source": [
    "merged_df = person_df.merge(diagnosis_table, how=\"left\", on=\"person_id\")\n",
    "merged_df= merged_df.merge(medication_table, how=\"left\", on=\"person_id\")\n",
    "merged_df = merged_df.merge(benefits_table, how=\"left\", on=\"person_id\")\n",
    "merged_df = merged_df.replace({np.nan: \"none\"})"
   ]
  },
  {
   "cell_type": "code",
   "execution_count": 29,
   "id": "ddbb46ee-0586-4632-9dd3-752e91abb573",
   "metadata": {},
   "outputs": [
    {
     "data": {
      "text/html": [
       "<div>\n",
       "<style scoped>\n",
       "    .dataframe tbody tr th:only-of-type {\n",
       "        vertical-align: middle;\n",
       "    }\n",
       "\n",
       "    .dataframe tbody tr th {\n",
       "        vertical-align: top;\n",
       "    }\n",
       "\n",
       "    .dataframe thead th {\n",
       "        text-align: right;\n",
       "    }\n",
       "</style>\n",
       "<table border=\"1\" class=\"dataframe\">\n",
       "  <thead>\n",
       "    <tr style=\"text-align: right;\">\n",
       "      <th></th>\n",
       "      <th>person_id</th>\n",
       "      <th>age</th>\n",
       "      <th>age_bracket</th>\n",
       "      <th>diagnosis_id</th>\n",
       "      <th>icd_code</th>\n",
       "      <th>drug_id</th>\n",
       "      <th>drug</th>\n",
       "      <th>benefit_id</th>\n",
       "      <th>vasrd_x</th>\n",
       "      <th>vasrd desc_x</th>\n",
       "      <th>vasrd_y</th>\n",
       "      <th>vasrd desc_y</th>\n",
       "    </tr>\n",
       "  </thead>\n",
       "  <tbody>\n",
       "    <tr>\n",
       "      <th>0</th>\n",
       "      <td>5898329840</td>\n",
       "      <td>40</td>\n",
       "      <td>'33-44'</td>\n",
       "      <td>7791961384.0</td>\n",
       "      <td>J4599</td>\n",
       "      <td>4918823640.0</td>\n",
       "      <td>prednisone</td>\n",
       "      <td>5996024489</td>\n",
       "      <td>6602</td>\n",
       "      <td>Asthma</td>\n",
       "      <td>6602</td>\n",
       "      <td>Asthma</td>\n",
       "    </tr>\n",
       "    <tr>\n",
       "      <th>2</th>\n",
       "      <td>2906162014</td>\n",
       "      <td>66</td>\n",
       "      <td>'55-66'</td>\n",
       "      <td>none</td>\n",
       "      <td>none</td>\n",
       "      <td>none</td>\n",
       "      <td>none</td>\n",
       "      <td>5308786135</td>\n",
       "      <td>9412</td>\n",
       "      <td>Panic disorder and/or agoraphobia</td>\n",
       "      <td>9412</td>\n",
       "      <td>Panic disorder and/or agoraphobia</td>\n",
       "    </tr>\n",
       "    <tr>\n",
       "      <th>3</th>\n",
       "      <td>6454399878</td>\n",
       "      <td>33</td>\n",
       "      <td>'22-33'</td>\n",
       "      <td>none</td>\n",
       "      <td>none</td>\n",
       "      <td>none</td>\n",
       "      <td>none</td>\n",
       "      <td>9033029319</td>\n",
       "      <td>9411</td>\n",
       "      <td>Posttraumatic stress disorder</td>\n",
       "      <td>9411</td>\n",
       "      <td>Posttraumatic stress disorder</td>\n",
       "    </tr>\n",
       "    <tr>\n",
       "      <th>4</th>\n",
       "      <td>3006899318</td>\n",
       "      <td>71</td>\n",
       "      <td>'66-77'</td>\n",
       "      <td>9559604349.0</td>\n",
       "      <td>F4311</td>\n",
       "      <td>none</td>\n",
       "      <td>none</td>\n",
       "      <td>9033029319</td>\n",
       "      <td>9411</td>\n",
       "      <td>Posttraumatic stress disorder</td>\n",
       "      <td>9411</td>\n",
       "      <td>Posttraumatic stress disorder</td>\n",
       "    </tr>\n",
       "    <tr>\n",
       "      <th>5</th>\n",
       "      <td>9317563040</td>\n",
       "      <td>80</td>\n",
       "      <td>'77-88'</td>\n",
       "      <td>150164051.0</td>\n",
       "      <td>F400</td>\n",
       "      <td>none</td>\n",
       "      <td>none</td>\n",
       "      <td>5308786135</td>\n",
       "      <td>9412</td>\n",
       "      <td>Panic disorder and/or agoraphobia</td>\n",
       "      <td>9412</td>\n",
       "      <td>Panic disorder and/or agoraphobia</td>\n",
       "    </tr>\n",
       "    <tr>\n",
       "      <th>...</th>\n",
       "      <td>...</td>\n",
       "      <td>...</td>\n",
       "      <td>...</td>\n",
       "      <td>...</td>\n",
       "      <td>...</td>\n",
       "      <td>...</td>\n",
       "      <td>...</td>\n",
       "      <td>...</td>\n",
       "      <td>...</td>\n",
       "      <td>...</td>\n",
       "      <td>...</td>\n",
       "      <td>...</td>\n",
       "    </tr>\n",
       "    <tr>\n",
       "      <th>418</th>\n",
       "      <td>7096892426</td>\n",
       "      <td>37</td>\n",
       "      <td>'33-44'</td>\n",
       "      <td>none</td>\n",
       "      <td>none</td>\n",
       "      <td>none</td>\n",
       "      <td>none</td>\n",
       "      <td>None</td>\n",
       "      <td>none</td>\n",
       "      <td>none</td>\n",
       "      <td>none</td>\n",
       "      <td>none</td>\n",
       "    </tr>\n",
       "    <tr>\n",
       "      <th>419</th>\n",
       "      <td>6513561185</td>\n",
       "      <td>67</td>\n",
       "      <td>'66-77'</td>\n",
       "      <td>9625731327.0</td>\n",
       "      <td>N809</td>\n",
       "      <td>none</td>\n",
       "      <td>none</td>\n",
       "      <td>None</td>\n",
       "      <td>none</td>\n",
       "      <td>none</td>\n",
       "      <td>none</td>\n",
       "      <td>none</td>\n",
       "    </tr>\n",
       "    <tr>\n",
       "      <th>420</th>\n",
       "      <td>1063637697</td>\n",
       "      <td>83</td>\n",
       "      <td>'77-88'</td>\n",
       "      <td>none</td>\n",
       "      <td>none</td>\n",
       "      <td>4394287386.0</td>\n",
       "      <td>nifedipine cr</td>\n",
       "      <td>None</td>\n",
       "      <td>none</td>\n",
       "      <td>none</td>\n",
       "      <td>none</td>\n",
       "      <td>none</td>\n",
       "    </tr>\n",
       "    <tr>\n",
       "      <th>421</th>\n",
       "      <td>3722634689</td>\n",
       "      <td>75</td>\n",
       "      <td>'66-77'</td>\n",
       "      <td>none</td>\n",
       "      <td>none</td>\n",
       "      <td>none</td>\n",
       "      <td>none</td>\n",
       "      <td>None</td>\n",
       "      <td>none</td>\n",
       "      <td>none</td>\n",
       "      <td>none</td>\n",
       "      <td>none</td>\n",
       "    </tr>\n",
       "    <tr>\n",
       "      <th>422</th>\n",
       "      <td>774654199</td>\n",
       "      <td>69</td>\n",
       "      <td>'66-77'</td>\n",
       "      <td>2966697565.0</td>\n",
       "      <td>H72819</td>\n",
       "      <td>none</td>\n",
       "      <td>none</td>\n",
       "      <td>None</td>\n",
       "      <td>none</td>\n",
       "      <td>none</td>\n",
       "      <td>none</td>\n",
       "      <td>none</td>\n",
       "    </tr>\n",
       "  </tbody>\n",
       "</table>\n",
       "<p>382 rows × 12 columns</p>\n",
       "</div>"
      ],
      "text/plain": [
       "      person_id  age age_bracket  diagnosis_id icd_code       drug_id  \\\n",
       "0    5898329840   40     '33-44'  7791961384.0    J4599  4918823640.0   \n",
       "2    2906162014   66     '55-66'          none     none          none   \n",
       "3    6454399878   33     '22-33'          none     none          none   \n",
       "4    3006899318   71     '66-77'  9559604349.0    F4311          none   \n",
       "5    9317563040   80     '77-88'   150164051.0     F400          none   \n",
       "..          ...  ...         ...           ...      ...           ...   \n",
       "418  7096892426   37     '33-44'          none     none          none   \n",
       "419  6513561185   67     '66-77'  9625731327.0     N809          none   \n",
       "420  1063637697   83     '77-88'          none     none  4394287386.0   \n",
       "421  3722634689   75     '66-77'          none     none          none   \n",
       "422   774654199   69     '66-77'  2966697565.0   H72819          none   \n",
       "\n",
       "              drug  benefit_id vasrd_x                       vasrd desc_x  \\\n",
       "0       prednisone  5996024489    6602                             Asthma   \n",
       "2             none  5308786135    9412  Panic disorder and/or agoraphobia   \n",
       "3             none  9033029319    9411      Posttraumatic stress disorder   \n",
       "4             none  9033029319    9411      Posttraumatic stress disorder   \n",
       "5             none  5308786135    9412  Panic disorder and/or agoraphobia   \n",
       "..             ...         ...     ...                                ...   \n",
       "418           none        None    none                               none   \n",
       "419           none        None    none                               none   \n",
       "420  nifedipine cr        None    none                               none   \n",
       "421           none        None    none                               none   \n",
       "422           none        None    none                               none   \n",
       "\n",
       "    vasrd_y                       vasrd desc_y  \n",
       "0      6602                             Asthma  \n",
       "2      9412  Panic disorder and/or agoraphobia  \n",
       "3      9411      Posttraumatic stress disorder  \n",
       "4      9411      Posttraumatic stress disorder  \n",
       "5      9412  Panic disorder and/or agoraphobia  \n",
       "..      ...                                ...  \n",
       "418    none                               none  \n",
       "419    none                               none  \n",
       "420    none                               none  \n",
       "421    none                               none  \n",
       "422    none                               none  \n",
       "\n",
       "[382 rows x 12 columns]"
      ]
     },
     "execution_count": 29,
     "metadata": {},
     "output_type": "execute_result"
    }
   ],
   "source": [
    "merged_df.drop_duplicates()"
   ]
  },
  {
   "cell_type": "code",
   "execution_count": 30,
   "id": "4365c6dd-bdfa-45a0-a2f8-5849f9bd5c69",
   "metadata": {
    "scrolled": true
   },
   "outputs": [
    {
     "name": "stdout",
     "output_type": "stream",
     "text": [
      "vasrd desc_x                       drug                                                               \n",
      "Asthma                             albuterol 0.083% neb soln                                              0.103448\n",
      "                                   fluticasone propionate nasal                                           0.189655\n",
      "                                   none                                                                   0.310345\n",
      "                                   prednisone                                                             0.250000\n",
      "                                   salmeterol xinafoate diskus (50 mcg)                                   0.146552\n",
      "Panic disorder and/or agoraphobia  fluoxetine                                                             0.188889\n",
      "                                   lorazepam                                                              0.066667\n",
      "                                   none                                                                   0.544444\n",
      "                                   sertraline                                                             0.200000\n",
      "Posttraumatic stress disorder      none                                                                   0.348485\n",
      "                                   paroxetine                                                             0.333333\n",
      "                                   sertraline                                                             0.318182\n",
      "none                               alteplase (catheter clearance)                                         0.035294\n",
      "                                   amlodipine                                                             0.011765\n",
      "                                   atropine sulfate 1%                                                    0.011765\n",
      "                                   doxazosin                                                              0.011765\n",
      "                                   escitalopram oxalate                                                   0.023529\n",
      "                                   fentanyl patch                                                         0.058824\n",
      "                                   fluoxetine                                                             0.011765\n",
      "                                   fluticasone propionate nasal                                           0.023529\n",
      "                                   ivermectin                                                             0.023529\n",
      "                                   metformin (glucophage)                                                 0.011765\n",
      "                                   morphine sulfate                                                       0.011765\n",
      "                                   naproxen                                                               0.023529\n",
      "                                   nifedipine cr                                                          0.023529\n",
      "                                   nitrofurantoin monohyd (macrobid)                                      0.023529\n",
      "                                   none                                                                   0.529412\n",
      "                                   olanzapine (disintegrating tablet)                                     0.023529\n",
      "                                   oxycodone--acetaminophen (5mg-325mg)                                   0.011765\n",
      "                                   phenobarbital                                                          0.011765\n",
      "                                   phenobarbital - icu alcohol withdrawal (initial load / rescue dose)    0.023529\n",
      "                                   prednisone                                                             0.011765\n",
      "                                   ruxolitinib                                                            0.011765\n",
      "                                   sertraline                                                             0.011765\n",
      "                                   sodium bicarbonate                                                     0.023529\n",
      "                                   sodium chloride 0.9%                                                   0.023529\n",
      "                                   verapamil                                                              0.011765\n",
      "Name: person_id, dtype: float64\n"
     ]
    }
   ],
   "source": [
    "df = merged_df\n",
    "with pd.option_context('display.max_rows', None, 'display.max_columns', None):  # more options can be specified also\n",
    "    print((df.groupby(['vasrd desc_x','drug']).count() / df.groupby('vasrd desc_x').count())['person_id'])"
   ]
  },
  {
   "cell_type": "code",
   "execution_count": 31,
   "id": "bed5edb6-4753-479b-a351-72491f7f9a1c",
   "metadata": {
    "scrolled": true
   },
   "outputs": [
    {
     "name": "stdout",
     "output_type": "stream",
     "text": [
      "vasrd desc_x                       icd_code\n",
      "Asthma                             J4590       0.146552\n",
      "                                   J45901      0.112069\n",
      "                                   J4599       0.137931\n",
      "                                   J45998      0.146552\n",
      "                                   none        0.456897\n",
      "Panic disorder and/or agoraphobia  F400        0.144444\n",
      "                                   F4000       0.166667\n",
      "                                   F4001       0.188889\n",
      "                                   F4002       0.122222\n",
      "                                   none        0.377778\n",
      "Posttraumatic stress disorder      F431        0.189394\n",
      "                                   F4310       0.136364\n",
      "                                   F4311       0.189394\n",
      "                                   F4312       0.159091\n",
      "                                   none        0.325758\n",
      "none                               C9480       0.011765\n",
      "                                   F400        0.023529\n",
      "                                   F4001       0.047059\n",
      "                                   F4002       0.023529\n",
      "                                   F4312       0.011765\n",
      "                                   H72819      0.023529\n",
      "                                   J45901      0.011765\n",
      "                                   J4599       0.011765\n",
      "                                   N809        0.011765\n",
      "                                   S31819D     0.011765\n",
      "                                   S90559S     0.023529\n",
      "                                   T8529       0.023529\n",
      "                                   V00312S     0.011765\n",
      "                                   V9348       0.023529\n",
      "                                   Y36441      0.011765\n",
      "                                   none        0.717647\n",
      "Name: person_id, dtype: float64\n"
     ]
    }
   ],
   "source": [
    "with pd.option_context('display.max_rows', None, 'display.max_columns', None):  # more options can be specified also\n",
    "    print((df.groupby(['vasrd desc_x','icd_code']).count() / df.groupby('vasrd desc_x').count())['person_id'])"
   ]
  },
  {
   "cell_type": "code",
   "execution_count": 32,
   "id": "c8212829-2aa2-4019-893e-4e0c6d42c2d2",
   "metadata": {},
   "outputs": [
    {
     "name": "stdout",
     "output_type": "stream",
     "text": [
      "icd_code  drug                                                               \n",
      "C9480     fentanyl patch                                                         1.000000\n",
      "F400      fluoxetine                                                             0.133333\n",
      "          none                                                                   0.666667\n",
      "          sertraline                                                             0.200000\n",
      "F4000     fluoxetine                                                             0.133333\n",
      "          lorazepam                                                              0.066667\n",
      "          none                                                                   0.600000\n",
      "          sertraline                                                             0.200000\n",
      "F4001     fentanyl patch                                                         0.047619\n",
      "          fluoxetine                                                             0.190476\n",
      "          lorazepam                                                              0.047619\n",
      "          naproxen                                                               0.047619\n",
      "          none                                                                   0.285714\n",
      "          sertraline                                                             0.333333\n",
      "          sodium bicarbonate                                                     0.047619\n",
      "F4002     lorazepam                                                              0.076923\n",
      "          none                                                                   0.769231\n",
      "          sertraline                                                             0.153846\n",
      "F431      none                                                                   0.320000\n",
      "          paroxetine                                                             0.360000\n",
      "          sertraline                                                             0.320000\n",
      "F4310     none                                                                   0.277778\n",
      "          paroxetine                                                             0.222222\n",
      "          sertraline                                                             0.500000\n",
      "F4311     none                                                                   0.400000\n",
      "          paroxetine                                                             0.360000\n",
      "          sertraline                                                             0.240000\n",
      "F4312     none                                                                   0.181818\n",
      "          paroxetine                                                             0.454545\n",
      "          sertraline                                                             0.363636\n",
      "H72819    none                                                                   1.000000\n",
      "J4590     albuterol 0.083% neb soln                                              0.058824\n",
      "          fluticasone propionate nasal                                           0.176471\n",
      "          none                                                                   0.352941\n",
      "          prednisone                                                             0.294118\n",
      "          salmeterol xinafoate diskus (50 mcg)                                   0.117647\n",
      "J45901    albuterol 0.083% neb soln                                              0.142857\n",
      "          fluticasone propionate nasal                                           0.214286\n",
      "          none                                                                   0.214286\n",
      "          prednisone                                                             0.214286\n",
      "          ruxolitinib                                                            0.071429\n",
      "          salmeterol xinafoate diskus (50 mcg)                                   0.142857\n",
      "J4599     albuterol 0.083% neb soln                                              0.058824\n",
      "          fluticasone propionate nasal                                           0.117647\n",
      "          naproxen                                                               0.058824\n",
      "          none                                                                   0.411765\n",
      "          prednisone                                                             0.235294\n",
      "          salmeterol xinafoate diskus (50 mcg)                                   0.117647\n",
      "J45998    albuterol 0.083% neb soln                                              0.117647\n",
      "          fluticasone propionate nasal                                           0.235294\n",
      "          none                                                                   0.117647\n",
      "          prednisone                                                             0.294118\n",
      "          salmeterol xinafoate diskus (50 mcg)                                   0.235294\n",
      "N809      none                                                                   1.000000\n",
      "S31819D   none                                                                   1.000000\n",
      "S90559S   none                                                                   1.000000\n",
      "T8529     nifedipine cr                                                          0.500000\n",
      "          none                                                                   0.500000\n",
      "V00312S   fluticasone propionate nasal                                           1.000000\n",
      "V9348     nitrofurantoin monohyd (macrobid)                                      0.500000\n",
      "          none                                                                   0.500000\n",
      "Y36441    none                                                                   1.000000\n",
      "none      albuterol 0.083% neb soln                                              0.031414\n",
      "          alteplase (catheter clearance)                                         0.015707\n",
      "          amlodipine                                                             0.005236\n",
      "          atropine sulfate 1%                                                    0.005236\n",
      "          doxazosin                                                              0.005236\n",
      "          escitalopram oxalate                                                   0.010471\n",
      "          fentanyl patch                                                         0.015707\n",
      "          fluoxetine                                                             0.052356\n",
      "          fluticasone propionate nasal                                           0.057592\n",
      "          ivermectin                                                             0.010471\n",
      "          lorazepam                                                              0.015707\n",
      "          metformin (glucophage)                                                 0.005236\n",
      "          morphine sulfate                                                       0.005236\n",
      "          nifedipine cr                                                          0.005236\n",
      "          nitrofurantoin monohyd (macrobid)                                      0.005236\n",
      "          none                                                                   0.455497\n",
      "          olanzapine (disintegrating tablet)                                     0.010471\n",
      "          oxycodone--acetaminophen (5mg-325mg)                                   0.005236\n",
      "          paroxetine                                                             0.062827\n",
      "          phenobarbital                                                          0.005236\n",
      "          phenobarbital - icu alcohol withdrawal (initial load / rescue dose)    0.010471\n",
      "          prednisone                                                             0.068063\n",
      "          salmeterol xinafoate diskus (50 mcg)                                   0.036649\n",
      "          sertraline                                                             0.078534\n",
      "          sodium bicarbonate                                                     0.005236\n",
      "          sodium chloride 0.9%                                                   0.010471\n",
      "          verapamil                                                              0.005236\n",
      "Name: person_id, dtype: float64\n"
     ]
    }
   ],
   "source": [
    "with pd.option_context('display.max_rows', None, 'display.max_columns', None):  # more options can be specified also\n",
    "    print((df.groupby(['icd_code','drug']).count() / df.groupby('icd_code').count())['person_id'])"
   ]
  },
  {
   "cell_type": "markdown",
   "id": "ca265cf4-f843-4318-81d8-5827784f8c77",
   "metadata": {},
   "source": [
    "## Gaussian Synthesizer "
   ]
  },
  {
   "cell_type": "code",
   "execution_count": 102,
   "id": "0429cb70-18ed-45d0-b82a-6d3d897397af",
   "metadata": {},
   "outputs": [],
   "source": [
    "from sdv.metadata import SingleTableMetadata\n",
    "metadata= {\n",
    "    \"columns\": {\n",
    "        \"person_id\": {\n",
    "            \"sdtype\": \"categorical\"\n",
    "        },\n",
    "        \"age\": {\n",
    "            \"sdtype\": \"categorical\"\n",
    "        },\n",
    "        \"vasrd\": {\n",
    "            \"sdtype\": \"categorical\"\n",
    "        },\n",
    "        \"drug\": {\n",
    "            \"sdtype\": \"categorical\"\n",
    "        },\n",
    "        \"diagnosis\": {\n",
    "            \"sdtype\": \"categorical\"\n",
    "        }\n",
    "    },\n",
    "    \"METADATA_SPEC_VERSION\": \"SINGLE_TABLE_V1\"\n",
    "}\n",
    "metadata_obj = SingleTableMetadata.load_from_dict(metadata)"
   ]
  },
  {
   "cell_type": "code",
   "execution_count": 155,
   "id": "8da3b9c5-dc0a-4d00-8cb3-a8536f945f84",
   "metadata": {},
   "outputs": [],
   "source": [
    "from sdv.single_table import TVAESynthesizer\n",
    "\n",
    "synthesizer = TVAESynthesizer(metadata_obj,epochs=500)\n",
    "synthesizer.fit(merged_df)\n",
    "\n",
    "synthetic_data = synthesizer.sample(num_rows=200)"
   ]
  },
  {
   "cell_type": "code",
   "execution_count": 156,
   "id": "072cf85c-23df-42ba-bd5b-9ec887a4f2e6",
   "metadata": {},
   "outputs": [
    {
     "data": {
      "text/html": [
       "<div>\n",
       "<style scoped>\n",
       "    .dataframe tbody tr th:only-of-type {\n",
       "        vertical-align: middle;\n",
       "    }\n",
       "\n",
       "    .dataframe tbody tr th {\n",
       "        vertical-align: top;\n",
       "    }\n",
       "\n",
       "    .dataframe thead th {\n",
       "        text-align: right;\n",
       "    }\n",
       "</style>\n",
       "<table border=\"1\" class=\"dataframe\">\n",
       "  <thead>\n",
       "    <tr style=\"text-align: right;\">\n",
       "      <th></th>\n",
       "      <th>person_id</th>\n",
       "      <th>age</th>\n",
       "      <th>vasrd</th>\n",
       "      <th>drug</th>\n",
       "      <th>diagnosis</th>\n",
       "    </tr>\n",
       "  </thead>\n",
       "  <tbody>\n",
       "    <tr>\n",
       "      <th>0</th>\n",
       "      <td>7686347231</td>\n",
       "      <td>79</td>\n",
       "      <td>9411 Posttraumatic stress disorder</td>\n",
       "      <td>NaN</td>\n",
       "      <td>NaN</td>\n",
       "    </tr>\n",
       "    <tr>\n",
       "      <th>1</th>\n",
       "      <td>2155788657</td>\n",
       "      <td>23</td>\n",
       "      <td>9412 Panic disorder and/or agoraphobia</td>\n",
       "      <td>fluoxetine</td>\n",
       "      <td>F4001</td>\n",
       "    </tr>\n",
       "    <tr>\n",
       "      <th>2</th>\n",
       "      <td>1740462140</td>\n",
       "      <td>61</td>\n",
       "      <td>6602 Asthma</td>\n",
       "      <td>NaN</td>\n",
       "      <td>NaN</td>\n",
       "    </tr>\n",
       "    <tr>\n",
       "      <th>3</th>\n",
       "      <td>2155788657</td>\n",
       "      <td>73</td>\n",
       "      <td>6602 Asthma</td>\n",
       "      <td>fluoxetine</td>\n",
       "      <td>F4001</td>\n",
       "    </tr>\n",
       "    <tr>\n",
       "      <th>4</th>\n",
       "      <td>9313862409</td>\n",
       "      <td>41</td>\n",
       "      <td>9412 Panic disorder and/or agoraphobia</td>\n",
       "      <td>sertraline</td>\n",
       "      <td>NaN</td>\n",
       "    </tr>\n",
       "    <tr>\n",
       "      <th>...</th>\n",
       "      <td>...</td>\n",
       "      <td>...</td>\n",
       "      <td>...</td>\n",
       "      <td>...</td>\n",
       "      <td>...</td>\n",
       "    </tr>\n",
       "    <tr>\n",
       "      <th>195</th>\n",
       "      <td>7228541575</td>\n",
       "      <td>42</td>\n",
       "      <td>9412 Panic disorder and/or agoraphobia</td>\n",
       "      <td>fluoxetine</td>\n",
       "      <td>F4001</td>\n",
       "    </tr>\n",
       "    <tr>\n",
       "      <th>196</th>\n",
       "      <td>7791492802</td>\n",
       "      <td>79</td>\n",
       "      <td>9411 Posttraumatic stress disorder</td>\n",
       "      <td>NaN</td>\n",
       "      <td>NaN</td>\n",
       "    </tr>\n",
       "    <tr>\n",
       "      <th>197</th>\n",
       "      <td>8466690470</td>\n",
       "      <td>47</td>\n",
       "      <td>None</td>\n",
       "      <td>NaN</td>\n",
       "      <td>NaN</td>\n",
       "    </tr>\n",
       "    <tr>\n",
       "      <th>198</th>\n",
       "      <td>1233939245</td>\n",
       "      <td>34</td>\n",
       "      <td>9411 Posttraumatic stress disorder</td>\n",
       "      <td>NaN</td>\n",
       "      <td>F431</td>\n",
       "    </tr>\n",
       "    <tr>\n",
       "      <th>199</th>\n",
       "      <td>2155788657</td>\n",
       "      <td>23</td>\n",
       "      <td>6602 Asthma</td>\n",
       "      <td>fluoxetine</td>\n",
       "      <td>F4001</td>\n",
       "    </tr>\n",
       "  </tbody>\n",
       "</table>\n",
       "<p>200 rows × 5 columns</p>\n",
       "</div>"
      ],
      "text/plain": [
       "      person_id  age                                   vasrd        drug  \\\n",
       "0    7686347231   79      9411 Posttraumatic stress disorder         NaN   \n",
       "1    2155788657   23  9412 Panic disorder and/or agoraphobia  fluoxetine   \n",
       "2    1740462140   61                             6602 Asthma         NaN   \n",
       "3    2155788657   73                             6602 Asthma  fluoxetine   \n",
       "4    9313862409   41  9412 Panic disorder and/or agoraphobia  sertraline   \n",
       "..          ...  ...                                     ...         ...   \n",
       "195  7228541575   42  9412 Panic disorder and/or agoraphobia  fluoxetine   \n",
       "196  7791492802   79      9411 Posttraumatic stress disorder         NaN   \n",
       "197  8466690470   47                                    None         NaN   \n",
       "198  1233939245   34      9411 Posttraumatic stress disorder         NaN   \n",
       "199  2155788657   23                             6602 Asthma  fluoxetine   \n",
       "\n",
       "    diagnosis  \n",
       "0         NaN  \n",
       "1       F4001  \n",
       "2         NaN  \n",
       "3       F4001  \n",
       "4         NaN  \n",
       "..        ...  \n",
       "195     F4001  \n",
       "196       NaN  \n",
       "197       NaN  \n",
       "198      F431  \n",
       "199     F4001  \n",
       "\n",
       "[200 rows x 5 columns]"
      ]
     },
     "execution_count": 156,
     "metadata": {},
     "output_type": "execute_result"
    }
   ],
   "source": [
    "synthetic_data"
   ]
  },
  {
   "cell_type": "code",
   "execution_count": 157,
   "id": "a88104db-6bac-4a94-9bf0-a8936a26c256",
   "metadata": {
    "scrolled": true
   },
   "outputs": [
    {
     "name": "stdout",
     "output_type": "stream",
     "text": [
      "Generating report ...\n",
      "\n",
      "(1/2) Evaluating Data Validity: |██████████████████████████████████████████████████████████████████████████████████████████████████████████████████████████| 5/5 [00:00<00:00, 1054.80it/s]|\n",
      "Data Validity Score: 100.0%\n",
      "\n",
      "(2/2) Evaluating Data Structure: |██████████████████████████████████████████████████████████████████████████████████████████████████████████████████████████| 1/1 [00:00<00:00, 444.12it/s]|\n",
      "Data Structure Score: 100.0%\n",
      "\n",
      "Overall Score (Average): 100.0%\n",
      "\n",
      "Generating report ...\n",
      "\n",
      "(1/2) Evaluating Column Shapes: |███████████████████████████████████████████████████████████████████████████████████████████████████████████████████████████| 5/5 [00:00<00:00, 908.45it/s]|\n",
      "Column Shapes Score: 68.57%\n",
      "\n",
      "(2/2) Evaluating Column Pair Trends: |█████████████████████████████████████████████████████████████████████████████████████████████████████████████████████| 10/10 [00:00<00:00, 19.79it/s]|\n",
      "Column Pair Trends Score: 44.67%\n",
      "\n",
      "Overall Score (Average): 56.62%\n",
      "\n"
     ]
    },
    {
     "data": {
      "text/html": [
       "<iframe\n",
       "    scrolling=\"no\"\n",
       "    width=\"100%\"\n",
       "    height=\"545px\"\n",
       "    src=\"iframe_figures/figure_157.html\"\n",
       "    frameborder=\"0\"\n",
       "    allowfullscreen\n",
       "></iframe>\n"
      ]
     },
     "metadata": {},
     "output_type": "display_data"
    }
   ],
   "source": [
    "from sdv.evaluation.single_table import run_diagnostic, evaluate_quality\n",
    "from sdv.evaluation.single_table import get_column_plot\n",
    "real_data = merged_df\n",
    "# 1. perform basic validity checks\n",
    "diagnostic = run_diagnostic(real_data, synthetic_data, metadata_obj)\n",
    "\n",
    "# 2. measure the statistical similarity\n",
    "quality_report = evaluate_quality(real_data, synthetic_data, metadata_obj)\n",
    "\n",
    "# 3. plot the data\n",
    "fig = get_column_plot(\n",
    "    real_data=real_data,\n",
    "    synthetic_data=synthetic_data,\n",
    "    metadata=metadata_obj,\n",
    "    column_name='drug'\n",
    ")\n",
    "\n",
    "fig.show()"
   ]
  },
  {
   "cell_type": "code",
   "execution_count": 158,
   "id": "a6945c99-98b5-4567-a791-7efcbe592d30",
   "metadata": {},
   "outputs": [
    {
     "data": {
      "text/html": [
       "<iframe\n",
       "    scrolling=\"no\"\n",
       "    width=\"100%\"\n",
       "    height=\"545px\"\n",
       "    src=\"iframe_figures/figure_158.html\"\n",
       "    frameborder=\"0\"\n",
       "    allowfullscreen\n",
       "></iframe>\n"
      ]
     },
     "metadata": {},
     "output_type": "display_data"
    }
   ],
   "source": [
    "fig = get_column_plot(\n",
    "    real_data=real_data,\n",
    "    synthetic_data=synthetic_data,\n",
    "    metadata=metadata_obj,\n",
    "    column_name='age'\n",
    ")\n",
    "fig.show()"
   ]
  },
  {
   "cell_type": "code",
   "execution_count": 159,
   "id": "6fbc05fb-cc84-4104-8eee-40d60460951a",
   "metadata": {},
   "outputs": [
    {
     "data": {
      "text/html": [
       "<iframe\n",
       "    scrolling=\"no\"\n",
       "    width=\"100%\"\n",
       "    height=\"545px\"\n",
       "    src=\"iframe_figures/figure_159.html\"\n",
       "    frameborder=\"0\"\n",
       "    allowfullscreen\n",
       "></iframe>\n"
      ]
     },
     "metadata": {},
     "output_type": "display_data"
    }
   ],
   "source": [
    "fig = get_column_plot(\n",
    "    real_data=real_data,\n",
    "    synthetic_data=synthetic_data,\n",
    "    metadata=metadata_obj,\n",
    "    column_name='vasrd'\n",
    ")\n",
    "fig.show()"
   ]
  },
  {
   "cell_type": "code",
   "execution_count": 160,
   "id": "225f80c2-ef99-40d8-afce-ac4abce6eb46",
   "metadata": {},
   "outputs": [
    {
     "data": {
      "text/html": [
       "<iframe\n",
       "    scrolling=\"no\"\n",
       "    width=\"100%\"\n",
       "    height=\"545px\"\n",
       "    src=\"iframe_figures/figure_160.html\"\n",
       "    frameborder=\"0\"\n",
       "    allowfullscreen\n",
       "></iframe>\n"
      ]
     },
     "metadata": {},
     "output_type": "display_data"
    }
   ],
   "source": [
    "\n",
    "fig = get_column_plot(\n",
    "    real_data=merged_df,\n",
    "    synthetic_data=synthetic_data,\n",
    "    metadata=metadata_obj,\n",
    "    column_name='diagnosis'\n",
    ")\n",
    "\n",
    "fig.show()"
   ]
  },
  {
   "cell_type": "code",
   "execution_count": 16,
   "id": "6f14300c-863a-4a7b-87ce-dc15b7b70093",
   "metadata": {},
   "outputs": [
    {
     "ename": "NameError",
     "evalue": "name 'synthetic_data' is not defined",
     "output_type": "error",
     "traceback": [
      "\u001b[0;31m---------------------------------------------------------------------------\u001b[0m",
      "\u001b[0;31mNameError\u001b[0m                                 Traceback (most recent call last)",
      "Cell \u001b[0;32mIn[16], line 1\u001b[0m\n\u001b[0;32m----> 1\u001b[0m df \u001b[38;5;241m=\u001b[39m \u001b[43msynthetic_data\u001b[49m\u001b[38;5;241m.\u001b[39mmerge(icd,right_on\u001b[38;5;241m=\u001b[39m\u001b[38;5;124m\"\u001b[39m\u001b[38;5;124micd_code\u001b[39m\u001b[38;5;124m\"\u001b[39m,left_on\u001b[38;5;241m=\u001b[39m\u001b[38;5;124m\"\u001b[39m\u001b[38;5;124mdiagnosis\u001b[39m\u001b[38;5;124m\"\u001b[39m)\n\u001b[1;32m      2\u001b[0m df[[\u001b[38;5;124m\"\u001b[39m\u001b[38;5;124micd_code\u001b[39m\u001b[38;5;124m\"\u001b[39m,\u001b[38;5;124m\"\u001b[39m\u001b[38;5;124mlong_title\u001b[39m\u001b[38;5;124m\"\u001b[39m]]\n",
      "\u001b[0;31mNameError\u001b[0m: name 'synthetic_data' is not defined"
     ]
    }
   ],
   "source": [
    "df = synthetic_data.merge(icd,right_on=\"icd_code\",left_on=\"diagnosis\")\n",
    "df[[\"icd_code\",\"long_title\"]]"
   ]
  },
  {
   "cell_type": "code",
   "execution_count": null,
   "id": "ac8decfc-b3b4-4fe7-a3c6-de7eb51314ae",
   "metadata": {},
   "outputs": [],
   "source": [
    "df = synthetic_data\n",
    "with pd.option_context('display.max_rows', None, 'display.max_columns', None):  # more options can be specified also\n",
    "    print((df.groupby(['vasrd','diagnosis']).count() / df.groupby('vasrd').count())['person_id'])"
   ]
  },
  {
   "cell_type": "code",
   "execution_count": 164,
   "id": "ee39cf0f-8e0c-4b3c-b9f8-cfe30947cb86",
   "metadata": {},
   "outputs": [
    {
     "name": "stdout",
     "output_type": "stream",
     "text": [
      "vasrd                                   drug                                    \n",
      "6602 Asthma                             albuterol 0.083% neb soln                   0.040816\n",
      "                                        fluoxetine                                  0.081633\n",
      "                                        fluticasone propionate nasal                0.102041\n",
      "                                        lorazepam                                   0.040816\n",
      "                                        prednisone                                  0.367347\n",
      "                                        salmeterol xinafoate diskus (50 mcg)        0.040816\n",
      "                                        sertraline                                  0.020408\n",
      "9411 Posttraumatic stress disorder      paroxetine                                  0.020833\n",
      "                                        sertraline                                  0.354167\n",
      "9412 Panic disorder and/or agoraphobia  fluoxetine                                  0.254902\n",
      "                                        fluticasone propionate nasal                0.019608\n",
      "                                        lorazepam                                   0.098039\n",
      "                                        sertraline                                  0.235294\n",
      "None                                    acetaminophen-caff-butalbital               0.019231\n",
      "                                        acetylcysteine 20%                          0.019231\n",
      "                                        bupropion xl (once daily)                   0.019231\n",
      "                                        chlorhexidine gluconate 0.12% oral rinse    0.019231\n",
      "                                        diltiazem                                   0.019231\n",
      "                                        fluticasone propionate nasal                0.019231\n",
      "                                        idarubicin                                  0.019231\n",
      "                                        indomethacin                                0.038462\n",
      "                                        paroxetine                                  0.076923\n",
      "                                        potassium chl 40 meq / 1000 ml d5 1/2 ns    0.019231\n",
      "                                        salmeterol xinafoate diskus (50 mcg)        0.057692\n",
      "                                        sertraline                                  0.038462\n",
      "                                        tiotropium bromide                          0.019231\n",
      "Name: person_id, dtype: float64\n"
     ]
    }
   ],
   "source": [
    "df = synthetic_data\n",
    "with pd.option_context('display.max_rows', None, 'display.max_columns', None):  # more options can be specified also\n",
    "    print((df.groupby(['vasrd','drug']).count() / df.groupby('vasrd').count())['person_id'])"
   ]
  },
  {
   "cell_type": "code",
   "execution_count": 18,
   "id": "a12d4a2f-cc7f-48d4-a872-84f24c7a14b0",
   "metadata": {},
   "outputs": [
    {
     "ename": "NameError",
     "evalue": "name 'merged_df' is not defined",
     "output_type": "error",
     "traceback": [
      "\u001b[0;31m---------------------------------------------------------------------------\u001b[0m",
      "\u001b[0;31mNameError\u001b[0m                                 Traceback (most recent call last)",
      "Cell \u001b[0;32mIn[18], line 1\u001b[0m\n\u001b[0;32m----> 1\u001b[0m df \u001b[38;5;241m=\u001b[39m \u001b[43mmerged_df\u001b[49m\n\u001b[1;32m      2\u001b[0m \u001b[38;5;28;01mwith\u001b[39;00m pd\u001b[38;5;241m.\u001b[39moption_context(\u001b[38;5;124m'\u001b[39m\u001b[38;5;124mdisplay.max_rows\u001b[39m\u001b[38;5;124m'\u001b[39m, \u001b[38;5;28;01mNone\u001b[39;00m, \u001b[38;5;124m'\u001b[39m\u001b[38;5;124mdisplay.max_columns\u001b[39m\u001b[38;5;124m'\u001b[39m, \u001b[38;5;28;01mNone\u001b[39;00m):  \u001b[38;5;66;03m# more options can be specified also\u001b[39;00m\n\u001b[1;32m      3\u001b[0m     \u001b[38;5;28mprint\u001b[39m((df\u001b[38;5;241m.\u001b[39mgroupby([\u001b[38;5;124m'\u001b[39m\u001b[38;5;124mvasrd\u001b[39m\u001b[38;5;124m'\u001b[39m,\u001b[38;5;124m'\u001b[39m\u001b[38;5;124mdrug\u001b[39m\u001b[38;5;124m'\u001b[39m])\u001b[38;5;241m.\u001b[39mcount() \u001b[38;5;241m/\u001b[39m df\u001b[38;5;241m.\u001b[39mgroupby(\u001b[38;5;124m'\u001b[39m\u001b[38;5;124mvasrd\u001b[39m\u001b[38;5;124m'\u001b[39m)\u001b[38;5;241m.\u001b[39mcount())[\u001b[38;5;124m'\u001b[39m\u001b[38;5;124mperson_id\u001b[39m\u001b[38;5;124m'\u001b[39m])\n",
      "\u001b[0;31mNameError\u001b[0m: name 'merged_df' is not defined"
     ]
    }
   ],
   "source": [
    "df = merged_df\n",
    "with pd.option_context('display.max_rows', None, 'display.max_columns', None):  # more options can be specified also\n",
    "    print((df.groupby(['vasrd','drug']).count() / df.groupby('vasrd').count())['person_id'])"
   ]
  },
  {
   "cell_type": "code",
   "execution_count": null,
   "id": "f960d6f4-0f09-41d4-8a1a-2a57608e2492",
   "metadata": {},
   "outputs": [],
   "source": []
  }
 ],
 "metadata": {
  "kernelspec": {
   "display_name": "Python 3 (ipykernel)",
   "language": "python",
   "name": "python3"
  },
  "language_info": {
   "codemirror_mode": {
    "name": "ipython",
    "version": 3
   },
   "file_extension": ".py",
   "mimetype": "text/x-python",
   "name": "python",
   "nbconvert_exporter": "python",
   "pygments_lexer": "ipython3",
   "version": "3.9.17"
  }
 },
 "nbformat": 4,
 "nbformat_minor": 5
}
